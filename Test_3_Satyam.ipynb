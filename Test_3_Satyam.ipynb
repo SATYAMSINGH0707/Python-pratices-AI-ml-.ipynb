{
  "cells": [
    {
      "cell_type": "markdown",
      "metadata": {
        "id": "view-in-github",
        "colab_type": "text"
      },
      "source": [
        "<a href=\"https://colab.research.google.com/github/SATYAMSINGH0707/Python-pratices-AI-ml-.ipynb/blob/main/Test_3_Satyam.ipynb\" target=\"_parent\"><img src=\"https://colab.research.google.com/assets/colab-badge.svg\" alt=\"Open In Colab\"/></a>"
      ]
    },
    {
      "cell_type": "markdown",
      "id": "a2d03c1b-3b7f-4e29-aed5-fe7c3c93a61c",
      "metadata": {
        "id": "a2d03c1b-3b7f-4e29-aed5-fe7c3c93a61c"
      },
      "source": [
        "# Statistics Test 2.0"
      ]
    },
    {
      "cell_type": "markdown",
      "id": "eacdfe41-4c50-4a8d-8af9-25d78ccbab02",
      "metadata": {
        "id": "eacdfe41-4c50-4a8d-8af9-25d78ccbab02"
      },
      "source": [
        "Time - 1.30 Hr\n",
        "\n",
        "\n",
        "Total Marks = 60\n",
        "\n"
      ]
    },
    {
      "cell_type": "markdown",
      "source": [
        "**MCQ**"
      ],
      "metadata": {
        "id": "-h45Y-7UcYVW"
      },
      "id": "-h45Y-7UcYVW"
    },
    {
      "cell_type": "markdown",
      "source": [
        "**Which of the following is a measure of central tendency?**\n",
        "\n",
        "    A) Variance\n",
        "    B) Standard Deviation\n",
        "    C) Mean\n",
        "    D) Range"
      ],
      "metadata": {
        "id": "-0TTQIaXcLJF"
      },
      "id": "-0TTQIaXcLJF"
    },
    {
      "cell_type": "code",
      "source": [
        "C) Mean"
      ],
      "metadata": {
        "id": "qId0WLz4Zgn7"
      },
      "id": "qId0WLz4Zgn7",
      "execution_count": null,
      "outputs": []
    },
    {
      "cell_type": "markdown",
      "source": [
        "**In a dataset with values [2, 4, 4, 6, 8], what is the median?**\n",
        "\n",
        "    A) 4\n",
        "    B) 4.5\n",
        "    C) 6\n",
        "    D) 8"
      ],
      "metadata": {
        "id": "YEex8H5ocLLr"
      },
      "id": "YEex8H5ocLLr"
    },
    {
      "cell_type": "code",
      "source": [
        "Answer: A) 4"
      ],
      "metadata": {
        "id": "9iigp_hBZu2n"
      },
      "id": "9iigp_hBZu2n",
      "execution_count": null,
      "outputs": []
    },
    {
      "cell_type": "markdown",
      "source": [
        "**Inferential statistics are used to:**\n",
        "\n",
        "    A) Describe the data's central tendency\n",
        "    B) Summarize the data\n",
        "    C) Make predictions or inferences about a population based on a sample\n",
        "    D) Visualize the data"
      ],
      "metadata": {
        "id": "NLR39gAncLNz"
      },
      "id": "NLR39gAncLNz"
    },
    {
      "cell_type": "code",
      "source": [
        "C) Make predictions or inferences about a population based on a sample"
      ],
      "metadata": {
        "id": "FVbGCOmWZ0tZ"
      },
      "id": "FVbGCOmWZ0tZ",
      "execution_count": null,
      "outputs": []
    },
    {
      "cell_type": "markdown",
      "source": [
        "**What does a confidence interval represent?**\n",
        "\n",
        "    A) The range within which the population mean is expected to fall with a certain probability\n",
        "    B) The exact value of the population mean\n",
        "    C) The variability within the sample\n",
        "    D) The number of samples required"
      ],
      "metadata": {
        "id": "gxSeoRancLP9"
      },
      "id": "gxSeoRancLP9"
    },
    {
      "cell_type": "code",
      "source": [
        "A) The range within which the population mean is expected to fall with a certain probability"
      ],
      "metadata": {
        "id": "EK0j4L2uZ7KD"
      },
      "id": "EK0j4L2uZ7KD",
      "execution_count": null,
      "outputs": []
    },
    {
      "cell_type": "markdown",
      "source": [
        "**According to the Central Limit Theorem, as the sample size increases, the distribution of the sample mean:**\n",
        "\n",
        "    A) Becomes skewed\n",
        "    B) Approaches a normal distribution\n",
        "    C) Remains uniform\n",
        "    D) Becomes bimodal"
      ],
      "metadata": {
        "id": "8VcnEmX9cLSM"
      },
      "id": "8VcnEmX9cLSM"
    },
    {
      "cell_type": "code",
      "source": [
        "B) Approaches a normal distribution"
      ],
      "metadata": {
        "id": "0mT9kVO3aGEK"
      },
      "id": "0mT9kVO3aGEK",
      "execution_count": null,
      "outputs": []
    },
    {
      "cell_type": "markdown",
      "source": [
        "**The Central Limit Theorem is important because:**\n",
        "\n",
        "    A) It helps in defining the exact population distribution\n",
        "    B) It allows for the use of normal distribution to make inferences about sample means\n",
        "    C) It eliminates the need for sampling\n",
        "    D) It ensures sample sizes are always large"
      ],
      "metadata": {
        "id": "mQAz26m_cLUq"
      },
      "id": "mQAz26m_cLUq"
    },
    {
      "cell_type": "code",
      "source": [
        "B) It allows for the use of normal distribution to make inferences about sample means"
      ],
      "metadata": {
        "id": "6xjm8LLBaOJO"
      },
      "id": "6xjm8LLBaOJO",
      "execution_count": null,
      "outputs": []
    },
    {
      "cell_type": "markdown",
      "source": [
        "**ANOVA is used to test:**\n",
        "\n",
        "    A) The association between two categorical variables\n",
        "    B) The differences between means of three or more groups\n",
        "    C) The proportion of a sample\n",
        "    D) The correlation between two continuous variables"
      ],
      "metadata": {
        "id": "F1T_g8pgcLWv"
      },
      "id": "F1T_g8pgcLWv"
    },
    {
      "cell_type": "code",
      "source": [
        "B) The differences between means of three or more groups"
      ],
      "metadata": {
        "id": "UUZ8huOsaWiP"
      },
      "id": "UUZ8huOsaWiP",
      "execution_count": null,
      "outputs": []
    },
    {
      "cell_type": "markdown",
      "source": [
        "**A p-value less than 0.05 in an ANOVA test indicates:**\n",
        "\n",
        "    A) There is no significant difference between group means\n",
        "    B) The means of at least one group are significantly different from others\n",
        "    C) The variances within groups are equal\n",
        "    D) The sample size is too small"
      ],
      "metadata": {
        "id": "MXX8Exw3dBzd"
      },
      "id": "MXX8Exw3dBzd"
    },
    {
      "cell_type": "code",
      "source": [
        "B) The means of at least one group are significantly different from others"
      ],
      "metadata": {
        "id": "rHjW0H9hafBl"
      },
      "id": "rHjW0H9hafBl",
      "execution_count": null,
      "outputs": []
    },
    {
      "cell_type": "markdown",
      "source": [
        "**The chi-square test of independence assesses:**\n",
        "\n",
        "    A) If two continuous variables are related\n",
        "    B) The goodness-of-fit of a model\n",
        "    C) The association between two categorical variables\n",
        "    D) The variance of a single variable"
      ],
      "metadata": {
        "id": "T5dE7-GIdB14"
      },
      "id": "T5dE7-GIdB14"
    },
    {
      "cell_type": "code",
      "source": [
        "C) The association between two categorical variables"
      ],
      "metadata": {
        "id": "Vho-2LkzaldA"
      },
      "id": "Vho-2LkzaldA",
      "execution_count": null,
      "outputs": []
    },
    {
      "cell_type": "markdown",
      "source": [
        "**The two-sample t-test assumes:**\n",
        "\n",
        "    A) Equal variances between the two groups\n",
        "    B) Unequal variances between the two groups\n",
        "    C) No assumption about variances\n",
        "    D) The samples are paired"
      ],
      "metadata": {
        "id": "TbkJYhyNdIa0"
      },
      "id": "TbkJYhyNdIa0"
    },
    {
      "cell_type": "code",
      "source": [
        "A) Equal variances between the two groups"
      ],
      "metadata": {
        "id": "h_OOcCJlayGg"
      },
      "id": "h_OOcCJlayGg",
      "execution_count": null,
      "outputs": []
    },
    {
      "cell_type": "markdown",
      "id": "6b85eac4-9fa5-4a6e-8944-31cfdb85b1f7",
      "metadata": {
        "id": "6b85eac4-9fa5-4a6e-8944-31cfdb85b1f7"
      },
      "source": [
        "# Python Basic Exercise\n",
        "\n",
        "### Solve any three"
      ]
    },
    {
      "cell_type": "markdown",
      "id": "daf26a58-0326-40aa-bdb6-8d765abaa5e8",
      "metadata": {
        "id": "daf26a58-0326-40aa-bdb6-8d765abaa5e8"
      },
      "source": [
        "Que 1 -> You have a list a=[1,2,3,6,9,7,4,5,8], and you have to find the kth element from the list. This means I want to find the 2nd largest number from the list. Similarly, you have to create a function where I pass a number, say 4, and the function will return the 4th largest number from the list."
      ]
    },
    {
      "cell_type": "code",
      "execution_count": 6,
      "id": "6f85b635-779f-4c1f-be25-fed8ad6ca5b0",
      "metadata": {
        "id": "6f85b635-779f-4c1f-be25-fed8ad6ca5b0",
        "colab": {
          "base_uri": "https://localhost:8080/"
        },
        "outputId": "5a7d2052-a995-4668-9da3-4a25f2be992e"
      },
      "outputs": [
        {
          "output_type": "stream",
          "name": "stdout",
          "text": [
            "Enter the list of numbers separated by commas: 1,2,3,6,9,7,4,5,8\n",
            "Enter the value of k: 1\n",
            "The 1th largest element is: 9\n"
          ]
        }
      ],
      "source": [
        "def kth_largest_element(arr, k):\n",
        "\n",
        "    sorted_arr = sorted(arr, reverse=True)\n",
        "\n",
        "    return sorted_arr[k-1]\n",
        "\n",
        "\n",
        "input_list = input(\"Enter the list of numbers separated by commas: \")\n",
        "arr = [int(x) for x in input_list.split(',')]\n",
        "\n",
        "\n",
        "k = int(input(\"Enter the value of k: \"))\n",
        "\n",
        "\n",
        "if k > 0 and k <= len(arr):\n",
        "    print(f\"The {k}th largest element is: {kth_largest_element(arr, k)}\")\n",
        "else:\n",
        "    print(\"Invalid value for k. It should be between 1 and the length of the list.\")\n"
      ]
    },
    {
      "cell_type": "markdown",
      "id": "bb4ffbe7-2bd2-47fe-be13-41ce39dde5a7",
      "metadata": {
        "id": "bb4ffbe7-2bd2-47fe-be13-41ce39dde5a7"
      },
      "source": [
        "Que 2-> you have a list [1,8,0,6,4,0,6,0,0,2,0], You need to shift all the zeros to the right , without using any inbuilt function."
      ]
    },
    {
      "cell_type": "code",
      "execution_count": 8,
      "id": "39017c11-1084-4c96-b229-83ba71c15b98",
      "metadata": {
        "id": "39017c11-1084-4c96-b229-83ba71c15b98",
        "colab": {
          "base_uri": "https://localhost:8080/"
        },
        "outputId": "de5b4118-df09-485b-b278-58f737aa7fab"
      },
      "outputs": [
        {
          "output_type": "stream",
          "name": "stdout",
          "text": [
            "[1, 8, 6, 4, 6, 2, 0, 0, 0, 0, 0]\n"
          ]
        }
      ],
      "source": [
        "def shift_zeros_to_right(arr):\n",
        "\n",
        "    non_zero_index = 0\n",
        "    for i in range(len(arr)):\n",
        "        if arr[i] != 0:\n",
        "            arr[non_zero_index] = arr[i]\n",
        "            non_zero_index += 1\n",
        "\n",
        "\n",
        "    for i in range(non_zero_index, len(arr)):\n",
        "        arr[i] = 0\n",
        "\n",
        "\n",
        "arr = [1, 8, 0, 6, 4, 0, 6, 0, 0, 2, 0]\n",
        "shift_zeros_to_right(arr)\n",
        "print(arr)  # Output: [1, 8, 6, 4, 6, 2, 0, 0, 0, 0, 0]\n"
      ]
    },
    {
      "cell_type": "markdown",
      "id": "8f6bb4bc-9d9f-4f99-ad34-489934da6fb8",
      "metadata": {
        "id": "8f6bb4bc-9d9f-4f99-ad34-489934da6fb8"
      },
      "source": [
        "Que 3->Reverse a string without using any inbuilt function like slicing."
      ]
    },
    {
      "cell_type": "code",
      "execution_count": 10,
      "id": "3cfc4b48-15e0-4fcf-8cb7-1c6171d407e6",
      "metadata": {
        "id": "3cfc4b48-15e0-4fcf-8cb7-1c6171d407e6",
        "colab": {
          "base_uri": "https://localhost:8080/"
        },
        "outputId": "5c0ce401-2e1d-4fad-da86-9cae715b471e"
      },
      "outputs": [
        {
          "output_type": "stream",
          "name": "stdout",
          "text": [
            "Enter a string to reverse: hello\n",
            "Reversed string: olleh\n"
          ]
        }
      ],
      "source": [
        "def reverse_string(s):\n",
        "    reversed_s = \"\"\n",
        "    for i in range(len(s) - 1, -1, -1):\n",
        "        reversed_s += s[i]\n",
        "    return reversed_s\n",
        "\n",
        "\n",
        "user_input = input(\"Enter a string to reverse: \")\n",
        "reversed_string = reverse_string(user_input)\n",
        "print(f\"Reversed string: {reversed_string}\")\n"
      ]
    },
    {
      "cell_type": "markdown",
      "id": "58b475ca-89a9-4074-adfa-1b31e6609aaf",
      "metadata": {
        "id": "58b475ca-89a9-4074-adfa-1b31e6609aaf"
      },
      "source": [
        "Que 4-> To find common prefix in array of strings\n",
        "\n",
        "array= ['Abce','Abcjhgj','Abcf']\n",
        "\n",
        "\n",
        "The common prefix among the strings 'Abce', 'Abcjhgj', and 'Abcf' is 'Abc'. So, the common prefix is 'Abc'."
      ]
    },
    {
      "cell_type": "code",
      "execution_count": 12,
      "id": "80d7e6ea-574b-4135-aa87-a042e9956390",
      "metadata": {
        "id": "80d7e6ea-574b-4135-aa87-a042e9956390",
        "colab": {
          "base_uri": "https://localhost:8080/"
        },
        "outputId": "c85a3cbc-3bba-406e-d8f7-954e54304836"
      },
      "outputs": [
        {
          "output_type": "stream",
          "name": "stdout",
          "text": [
            "The common prefix is: Abc\n"
          ]
        }
      ],
      "source": [
        "def find_common_prefix(strings):\n",
        "    if not strings:\n",
        "        return \"\"\n",
        "\n",
        "    prefix = strings[0]\n",
        "    for s in strings[1:]:\n",
        "        while not s.startswith(prefix):\n",
        "            prefix = prefix[:-1]\n",
        "            if not prefix:\n",
        "                return \"\"\n",
        "\n",
        "    return prefix\n",
        "\n",
        "array = ['Abce', 'Abcjhgj', 'Abcf']\n",
        "common_prefix = find_common_prefix(array)\n",
        "print(f\"The common prefix is: {common_prefix}\")\n"
      ]
    },
    {
      "cell_type": "markdown",
      "id": "91637a40-f4ed-414d-9c71-c82374cb13a3",
      "metadata": {
        "id": "91637a40-f4ed-414d-9c71-c82374cb13a3"
      },
      "source": [
        "Que 5- Given the list l = [1,2,0,1,2,0,0], I want the output to be ans = [0,0,0,2,2,1,1] without using any inbuilt function"
      ]
    },
    {
      "cell_type": "code",
      "execution_count": 14,
      "id": "ea7b0b77-9ff4-4f73-9a99-129c665fb961",
      "metadata": {
        "id": "ea7b0b77-9ff4-4f73-9a99-129c665fb961",
        "colab": {
          "base_uri": "https://localhost:8080/"
        },
        "outputId": "9a2aecc5-4d80-4883-bbd7-1dd142774ea0"
      },
      "outputs": [
        {
          "output_type": "stream",
          "name": "stdout",
          "text": [
            "The sorted list is: [0, 0, 0, 2, 2, 1, 1]\n"
          ]
        }
      ],
      "source": [
        "def custom_sort_list(l):\n",
        "\n",
        "    zeros = []\n",
        "    non_zeros = []\n",
        "\n",
        "\n",
        "    for num in l:\n",
        "        if num == 0:\n",
        "            zeros.append(num)\n",
        "        else:\n",
        "            non_zeros.append(num)\n",
        "\n",
        "    for i in range(len(non_zeros)):\n",
        "        for j in range(i + 1, len(non_zeros)):\n",
        "            if non_zeros[i] < non_zeros[j]:\n",
        "\n",
        "                non_zeros[i], non_zeros[j] = non_zeros[j], non_zeros[i]\n",
        "\n",
        "    return zeros + non_zeros\n",
        "\n",
        "l = [1, 2, 0, 1, 2, 0, 0]\n",
        "ans = custom_sort_list(l)\n",
        "print(f\"The sorted list is: {ans}\")\n",
        "\n"
      ]
    },
    {
      "cell_type": "code",
      "execution_count": null,
      "id": "f36bc3d6-7bd0-4f8e-aad7-ac40484e911f",
      "metadata": {
        "id": "f36bc3d6-7bd0-4f8e-aad7-ac40484e911f"
      },
      "outputs": [],
      "source": []
    },
    {
      "cell_type": "markdown",
      "id": "e17c874f-ffe2-416f-af6c-2ba6e57a0bfd",
      "metadata": {
        "id": "e17c874f-ffe2-416f-af6c-2ba6e57a0bfd"
      },
      "source": [
        "# Statistics Theory Question\n"
      ]
    },
    {
      "cell_type": "markdown",
      "id": "0b748385-fe05-40f2-adc8-5b643f95b906",
      "metadata": {
        "id": "0b748385-fe05-40f2-adc8-5b643f95b906"
      },
      "source": [
        "Que 1- What is Central Limit Theoram ? Explain."
      ]
    },
    {
      "cell_type": "code",
      "execution_count": null,
      "id": "6e9ac27e-7076-4a13-89a6-d0ebe39d10f1",
      "metadata": {
        "id": "6e9ac27e-7076-4a13-89a6-d0ebe39d10f1"
      },
      "outputs": [],
      "source": [
        "Ans= When large samples usually greater than thirty are taken into consideration\n",
        " then the distribution of sample arithmetic mean approaches the normal\n",
        " distribution irrespective of the fact that random variables were originally distributed normally or not."
      ]
    },
    {
      "cell_type": "markdown",
      "id": "8466b61e-24b9-4567-bd63-04d8fb5360ad",
      "metadata": {
        "id": "8466b61e-24b9-4567-bd63-04d8fb5360ad"
      },
      "source": [
        "Que 2- What is CDF(Comulative density function). Explain with mathematics."
      ]
    },
    {
      "cell_type": "code",
      "execution_count": null,
      "id": "02b38da6-fd6a-4ecc-8275-aa85a320f78a",
      "metadata": {
        "id": "02b38da6-fd6a-4ecc-8275-aa85a320f78a"
      },
      "outputs": [],
      "source": [
        "Ans=\n",
        "Matplotlib is a library in Python and it is\n",
        "a numerical mathematical extension for the NumPy library.\n",
        "The cumulative distribution function (CDF) of a real-valued random variable X, or just distribution\n",
        " function of X, evaluated at x, is the probability that X will take a value less than or equal to x.\n",
        "\n",
        "Properties of CDF:\n",
        "Every cumulative distribution function F(X) is non-decreasing\n",
        "If maximum value of the cdf function is at x, F(x) = 1.\n",
        "The CDF ranges from 0 to 1."
      ]
    },
    {
      "cell_type": "markdown",
      "id": "6ada9cfc-cb42-4e64-b74e-7befd45cbe4a",
      "metadata": {
        "id": "6ada9cfc-cb42-4e64-b74e-7befd45cbe4a"
      },
      "source": [
        "Que 3- What is Anova test. how we can calculate behind the scene ?"
      ]
    },
    {
      "cell_type": "code",
      "execution_count": null,
      "id": "b2173ae3-80fc-4ba6-bbb9-3013db30a02f",
      "metadata": {
        "id": "b2173ae3-80fc-4ba6-bbb9-3013db30a02f"
      },
      "outputs": [],
      "source": [
        "Ans=\n",
        "The ANOVA analysis is a statistical relevance tool designed\n",
        " to evaluate whether or not the null hypothesis can be rejected while testing hypotheses.\n",
        "It is used to determine whether or not the means of three or more groups are equal."
      ]
    },
    {
      "cell_type": "markdown",
      "id": "dffe2da1-3353-4865-85eb-fff2caea349a",
      "metadata": {
        "id": "dffe2da1-3353-4865-85eb-fff2caea349a"
      },
      "source": [
        "Que 4-  What is Chi-Square test. how we will calculate behind the scene."
      ]
    },
    {
      "cell_type": "code",
      "execution_count": null,
      "id": "00d08145-13da-4d6d-a580-fca78914b2d8",
      "metadata": {
        "id": "00d08145-13da-4d6d-a580-fca78914b2d8"
      },
      "outputs": [],
      "source": [
        "Ans=\n",
        "The Chi-Square Test is a statistical method used to determine whether observed\n",
        " frequencies in a categorical dataset differ significantly from expected frequencies.\n",
        "  It is particularly valuable when you want to assess if there is a relationship between two categorical variables.\n",
        "\n",
        "Mechanics of the Chi-Square Test\n",
        "\n",
        "The Chi-Square Test involves the following steps:\n",
        "\n",
        "Setting Up Hypotheses:\n",
        "Null Hypothesis (H0): There is no association between the categorical variables.\n",
        "Alternative Hypothesis (Ha): There is an association between the categorical variables.\n",
        "2. Calculating Expected Frequencies:\n",
        "\n",
        "Calculate the expected frequencies for each cell in a contingency table under the assumption that the variables are independent.\n",
        "3. Computing the Chi-Square Statistic:\n",
        "\n",
        "Calculate the Chi-Square statistic using the formula:\n",
        "χ² = ∑ ( (Observed - Expected)² / Expected )\n",
        "\n",
        "4. Determining the Critical Value or P-Value:\n",
        "\n",
        "Compare the calculated Chi-Square statistic with the critical value from the Chi-Square distribution table or calculate the p-value using statistical software.\n",
        "5. Making a Decision:\n",
        "\n",
        "If the p-value is below a chosen significance level (e.g., 0.05), reject the null hypothesis in favor of the alternative hypothesis."
      ]
    },
    {
      "cell_type": "markdown",
      "id": "8fec219a-1fe3-41db-a2ba-8a0b5e0b4a43",
      "metadata": {
        "id": "8fec219a-1fe3-41db-a2ba-8a0b5e0b4a43"
      },
      "source": [
        "Que 5-  What is the difference between inferential and descriptive statistics."
      ]
    },
    {
      "cell_type": "code",
      "execution_count": null,
      "id": "6717b5d9-704f-4f01-854a-d89d40cb8568",
      "metadata": {
        "id": "6717b5d9-704f-4f01-854a-d89d40cb8568"
      },
      "outputs": [],
      "source": [
        "Ans=\n",
        "Descriptive Statistics\n",
        "Purpose: Descriptive statistics aim to summarize, describe,\n",
        " and present the main features of a dataset in a clear and concise manner.\n",
        "\n",
        "Techniques:\n",
        "\n",
        "Measures of Central Tendency: Mean, median, mode.\n",
        "Measures of Dispersion: Range, variance, standard deviation, interquartile range.\n",
        "Data Visualization: Histograms, bar charts, pie charts, box plots.\n",
        "\n",
        "Inferential Statistics\n",
        "Purpose: Inferential statistics use sample data to make generalizations or inferences about a larger population. It involves hypothesis testing and estimation.\n",
        "\n",
        "Techniques:\n",
        "\n",
        "Hypothesis Testing: t-tests, ANOVA, chi-square tests.\n",
        "Estimation: Confidence intervals, point estimates.\n",
        "Regression Analysis: Linear regression, logistic regression."
      ]
    },
    {
      "cell_type": "markdown",
      "id": "d7a2df48-9875-4b6b-ba26-feee4e03b1d5",
      "metadata": {
        "id": "d7a2df48-9875-4b6b-ba26-feee4e03b1d5"
      },
      "source": [
        "Que 6- Explain any 2 distribution."
      ]
    },
    {
      "cell_type": "code",
      "execution_count": null,
      "id": "938bde99-9a25-4a93-b594-182b09b7db61",
      "metadata": {
        "id": "938bde99-9a25-4a93-b594-182b09b7db61"
      },
      "outputs": [],
      "source": [
        "Ans =\n",
        "Normal Distribution\n",
        "Definition: The normal distribution, also known as the Gaussian distribution,\n",
        "is a continuous probability distribution characterized by its bell-shaped curve.\n",
        "It is defined by two parameters: the mean (μ) and the standard deviation(σ)."
      ]
    },
    {
      "cell_type": "markdown",
      "id": "5c2a1d3b-bea9-4de6-8018-a120e2d36528",
      "metadata": {
        "id": "5c2a1d3b-bea9-4de6-8018-a120e2d36528"
      },
      "source": [
        "# Statistics Mathematics  Question\n",
        "\n"
      ]
    },
    {
      "cell_type": "markdown",
      "id": "40749fa8-a06d-4d9c-8864-4bb8b24599a3",
      "metadata": {
        "id": "40749fa8-a06d-4d9c-8864-4bb8b24599a3"
      },
      "source": [
        "Que 1 - if I generate heights for 1000 people from a normal distribution, what would be the probability for a new person to have a height of 70 inches using (CDF) then z-score table? take height in inches.\n",
        "\n",
        "#### Mean height (in inches) of the population\n",
        "mean_height = 66\n",
        "\n",
        "#### Standard deviation of heights (in inches) of the population\n",
        "std_dev_height = 3\n",
        "\n",
        "\n",
        "##### Generate data using this code\n",
        "###### Generate heights for 1000 people from a normal distribution\n",
        "heights = np.random.normal(mean_height, std_dev_height, 1000)))"
      ]
    },
    {
      "cell_type": "code",
      "execution_count": null,
      "id": "e0b6c3a7-4b11-403f-860d-0beab1408712",
      "metadata": {
        "id": "e0b6c3a7-4b11-403f-860d-0beab1408712"
      },
      "outputs": [],
      "source": [
        "Sol=\n",
        "The result will give you the probability of a height being less than or equal to 70 inches."
      ]
    },
    {
      "cell_type": "code",
      "execution_count": null,
      "id": "02c423a1-cadd-4780-b2b1-606b36cbb1a9",
      "metadata": {
        "id": "02c423a1-cadd-4780-b2b1-606b36cbb1a9"
      },
      "outputs": [],
      "source": []
    },
    {
      "cell_type": "code",
      "execution_count": null,
      "id": "fc8691b1-9217-45fa-9c79-c7ad3b60b150",
      "metadata": {
        "id": "fc8691b1-9217-45fa-9c79-c7ad3b60b150"
      },
      "outputs": [],
      "source": []
    },
    {
      "cell_type": "code",
      "execution_count": null,
      "id": "5dabad10-7ae0-4827-9d09-6b95ea27deea",
      "metadata": {
        "id": "5dabad10-7ae0-4827-9d09-6b95ea27deea"
      },
      "outputs": [],
      "source": []
    },
    {
      "cell_type": "code",
      "execution_count": null,
      "id": "2ab7b5e6-e40f-450c-becf-eadedda71980",
      "metadata": {
        "id": "2ab7b5e6-e40f-450c-becf-eadedda71980"
      },
      "outputs": [],
      "source": []
    },
    {
      "cell_type": "markdown",
      "id": "99a22f4f-7737-4ef9-9ad0-fb7bd8e0ba46",
      "metadata": {
        "id": "99a22f4f-7737-4ef9-9ad0-fb7bd8e0ba46"
      },
      "source": [
        "Que 2-  Suppose a fitness center manager anticipates the attendance for a particular yoga class throughout the week. Based on historical data and other factors, they estimate the expected attendance in numbers:\n",
        "\n",
        "### Expected Attendance:\n",
        "\n",
        "Monday: 40\n",
        "\n",
        "Tuesday: 45\n",
        "\n",
        "Wednesday: 38\n",
        "\n",
        "Thursday: 50\n",
        "\n",
        "Friday: 55\n",
        "\n",
        "Saturday: 60\n",
        "\n",
        "Sunday: 65\n",
        "\n",
        "However, after the week concludes, the actual attendance is recorded:\n",
        "\n",
        "\n",
        "\n",
        "### Observed (Actual) Attendance:\n",
        "\n",
        "\n",
        "\n",
        "Monday: 38\n",
        "\n",
        "Tuesday: 43\n",
        "\n",
        "Wednesday: 40\n",
        "\n",
        "Thursday: 48\n",
        "\n",
        "Friday: 52\n",
        "\n",
        "Saturday: 58\n",
        "\n",
        "Sunday: 62\n",
        "\n",
        "Ho: There is no significant difference between the expected and observed attendance for the yoga class throughout the week.\n",
        "\n",
        "Ha: There is a significant difference between the expected and observed attendance for the yoga class throughout the week.\n",
        "\n",
        "#### Use chi-square test *Statistical Tools*"
      ]
    },
    {
      "cell_type": "code",
      "execution_count": null,
      "id": "06f2df44-24f4-4314-900d-d03f02823ceb",
      "metadata": {
        "id": "06f2df44-24f4-4314-900d-d03f02823ceb"
      },
      "outputs": [],
      "source": [
        "Sol="
      ]
    },
    {
      "cell_type": "code",
      "execution_count": 16,
      "id": "3db52de2-8492-49fa-a11f-9289d5318284",
      "metadata": {
        "id": "3db52de2-8492-49fa-a11f-9289d5318284",
        "colab": {
          "base_uri": "https://localhost:8080/"
        },
        "outputId": "3c96f7df-931d-40c6-8bb0-3be4960a676e"
      },
      "outputs": [
        {
          "output_type": "stream",
          "name": "stdout",
          "text": [
            "Chi-Square Statistic: 0.74\n",
            "Degrees of Freedom: 6\n",
            "P-Value: 0.9935\n"
          ]
        }
      ],
      "source": [
        "import numpy as np\n",
        "from scipy.stats import chi2\n",
        "expected = np.array([40, 45, 38, 50, 55, 60, 65])\n",
        "observed = np.array([38, 43, 40, 48, 52, 58, 62])\n",
        "chi_square_statistic = np.sum((observed - expected) ** 2 / expected)\n",
        "degrees_of_freedom = len(expected) - 1\n",
        "p_value = chi2.sf(chi_square_statistic, degrees_of_freedom)\n",
        "\n",
        "print(f\"Chi-Square Statistic: {chi_square_statistic:.2f}\")\n",
        "print(f\"Degrees of Freedom: {degrees_of_freedom}\")\n",
        "print(f\"P-Value: {p_value:.4f}\")\n"
      ]
    },
    {
      "cell_type": "markdown",
      "id": "a651ae03-9b6a-4af4-a3e9-97b90bb8913e",
      "metadata": {
        "id": "a651ae03-9b6a-4af4-a3e9-97b90bb8913e"
      },
      "source": [
        "Que3 -> Calculate anova test\n",
        "\n",
        "\n",
        "\n",
        "\n",
        "\n",
        "    | Student_ID | Semester | Total_Marks |\n",
        "    |------------|----------|-------------|\n",
        "    | 1          | Fall     | 85          |\n",
        "    | 2          | Fall     | 78          |\n",
        "    | 3          | Fall     | 92          |\n",
        "    | 4          | Spring   | 88          |\n",
        "    | 5          | Spring   | 75          |\n",
        "    | 6          | Spring   | 82          |\n",
        "    | 7          | Summer   | 90          |\n",
        "    | 8          | Summer   | 86          |\n",
        "    | 9          | Summer   | 79          |    \n",
        "\n",
        "\n",
        "Null Hypothesis (Ho): The average marks of students in each semester are approximately equal.\n",
        "\n",
        "Alternative Hypothesis (Ha): The average marks of students in at least one semester are different."
      ]
    },
    {
      "cell_type": "code",
      "execution_count": null,
      "id": "f4680b16-587c-4bec-809e-bfe473b7538a",
      "metadata": {
        "id": "f4680b16-587c-4bec-809e-bfe473b7538a"
      },
      "outputs": [],
      "source": []
    },
    {
      "cell_type": "code",
      "execution_count": 17,
      "id": "18d90b6a-a4e8-4b2c-97a2-9829efb6703b",
      "metadata": {
        "id": "18d90b6a-a4e8-4b2c-97a2-9829efb6703b",
        "colab": {
          "base_uri": "https://localhost:8080/"
        },
        "outputId": "44747494-aa76-4280-b485-5f55ffb5f134"
      },
      "outputs": [
        {
          "output_type": "stream",
          "name": "stdout",
          "text": [
            "F-Statistic: 0.27\n",
            "P-Value: 0.7704\n"
          ]
        }
      ],
      "source": [
        "import scipy.stats as stats\n",
        "fall_marks = [85, 78, 92]\n",
        "spring_marks = [88, 75, 82]\n",
        "summer_marks = [90, 86, 79]\n",
        "f_statistic, p_value = stats.f_oneway(fall_marks, spring_marks, summer_marks)\n",
        "\n",
        "print(f\"F-Statistic: {f_statistic:.2f}\")\n",
        "print(f\"P-Value: {p_value:.4f}\")\n"
      ]
    },
    {
      "cell_type": "code",
      "execution_count": null,
      "id": "575e378d-97df-466d-bebb-c0fe35db0935",
      "metadata": {
        "id": "575e378d-97df-466d-bebb-c0fe35db0935"
      },
      "outputs": [],
      "source": []
    },
    {
      "cell_type": "code",
      "execution_count": null,
      "id": "cab935e4-8712-49b3-8201-e9f7b446c5a0",
      "metadata": {
        "id": "cab935e4-8712-49b3-8201-e9f7b446c5a0"
      },
      "outputs": [],
      "source": []
    },
    {
      "cell_type": "code",
      "execution_count": null,
      "id": "d53135d4-8642-469e-adc7-cc8665a07a7e",
      "metadata": {
        "id": "d53135d4-8642-469e-adc7-cc8665a07a7e"
      },
      "outputs": [],
      "source": [
        "#Solution only submit in Github"
      ]
    },
    {
      "cell_type": "code",
      "execution_count": null,
      "id": "81d8187f-1a71-40ea-a3ed-6c30f21ad72b",
      "metadata": {
        "id": "81d8187f-1a71-40ea-a3ed-6c30f21ad72b"
      },
      "outputs": [],
      "source": []
    }
  ],
  "metadata": {
    "kernelspec": {
      "display_name": "Python 3 (ipykernel)",
      "language": "python",
      "name": "python3"
    },
    "language_info": {
      "codemirror_mode": {
        "name": "ipython",
        "version": 3
      },
      "file_extension": ".py",
      "mimetype": "text/x-python",
      "name": "python",
      "nbconvert_exporter": "python",
      "pygments_lexer": "ipython3",
      "version": "3.10.12"
    },
    "colab": {
      "provenance": [],
      "include_colab_link": true
    }
  },
  "nbformat": 4,
  "nbformat_minor": 5
}