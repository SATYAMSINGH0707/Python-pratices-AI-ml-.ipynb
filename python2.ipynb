{
  "nbformat": 4,
  "nbformat_minor": 0,
  "metadata": {
    "colab": {
      "provenance": [],
      "authorship_tag": "ABX9TyPSvDHFSNdGHbOTvTfaXYq8",
      "include_colab_link": true
    },
    "kernelspec": {
      "name": "python3",
      "display_name": "Python 3"
    },
    "language_info": {
      "name": "python"
    }
  },
  "cells": [
    {
      "cell_type": "markdown",
      "metadata": {
        "id": "view-in-github",
        "colab_type": "text"
      },
      "source": [
        "<a href=\"https://colab.research.google.com/github/SATYAMSINGH0707/Python-pratices-AI-ml-.ipynb/blob/main/python2.ipynb\" target=\"_parent\"><img src=\"https://colab.research.google.com/assets/colab-badge.svg\" alt=\"Open In Colab\"/></a>"
      ]
    },
    {
      "cell_type": "code",
      "source": [
        "c=5+5j"
      ],
      "metadata": {
        "id": "v3p-qHtPpQBc"
      },
      "execution_count": null,
      "outputs": []
    },
    {
      "cell_type": "code",
      "source": [
        "type(c)"
      ],
      "metadata": {
        "colab": {
          "base_uri": "https://localhost:8080/"
        },
        "id": "aH9-tJKTpomt",
        "outputId": "c60709b4-669d-44c1-c1fe-59d3bdf6e4d9"
      },
      "execution_count": null,
      "outputs": [
        {
          "output_type": "execute_result",
          "data": {
            "text/plain": [
              "complex"
            ]
          },
          "metadata": {},
          "execution_count": 3
        }
      ]
    },
    {
      "cell_type": "code",
      "source": [
        "a=\"satyam\""
      ],
      "metadata": {
        "id": "LPIwjZ6EnKRm"
      },
      "execution_count": null,
      "outputs": []
    },
    {
      "cell_type": "code",
      "source": [
        "type(a)"
      ],
      "metadata": {
        "colab": {
          "base_uri": "https://localhost:8080/"
        },
        "id": "4EzXNG14nW9-",
        "outputId": "fc78c331-b66d-4d68-a873-5c93966d1dca"
      },
      "execution_count": null,
      "outputs": [
        {
          "output_type": "execute_result",
          "data": {
            "text/plain": [
              "str"
            ]
          },
          "metadata": {},
          "execution_count": 2
        }
      ]
    },
    {
      "cell_type": "code",
      "source": [
        "a=\"python\"\n",
        "b=\" is a \"\n",
        "c=\"strong \"\n",
        "d= \"pograming language\""
      ],
      "metadata": {
        "id": "WetUn8pSngcP"
      },
      "execution_count": null,
      "outputs": []
    },
    {
      "cell_type": "code",
      "source": [
        "print (a+b+c+d)"
      ],
      "metadata": {
        "colab": {
          "base_uri": "https://localhost:8080/"
        },
        "id": "zs2L3Twtn1Y4",
        "outputId": "1357f8e1-2b53-4870-ae7c-76aeb818ab5c"
      },
      "execution_count": null,
      "outputs": [
        {
          "output_type": "stream",
          "name": "stdout",
          "text": [
            "python is a strong pograming language\n"
          ]
        }
      ]
    },
    {
      "cell_type": "code",
      "source": [
        "print('satyam'*5)"
      ],
      "metadata": {
        "colab": {
          "base_uri": "https://localhost:8080/"
        },
        "id": "5X9UxJEmoPou",
        "outputId": "fc530471-86e2-4bdd-de20-59cef92fc1b1"
      },
      "execution_count": null,
      "outputs": [
        {
          "output_type": "stream",
          "name": "stdout",
          "text": [
            "satyamsatyamsatyamsatyamsatyam\n"
          ]
        }
      ]
    },
    {
      "cell_type": "code",
      "source": [
        "lst=[]"
      ],
      "metadata": {
        "id": "AE0Vymwbog0Q"
      },
      "execution_count": null,
      "outputs": []
    },
    {
      "cell_type": "code",
      "source": [
        "lst"
      ],
      "metadata": {
        "colab": {
          "base_uri": "https://localhost:8080/"
        },
        "id": "SJl-QUxZyHx0",
        "outputId": "0d440d24-708e-4909-cae2-16515155f425"
      },
      "execution_count": null,
      "outputs": [
        {
          "output_type": "execute_result",
          "data": {
            "text/plain": [
              "[]"
            ]
          },
          "metadata": {},
          "execution_count": 11
        }
      ]
    },
    {
      "cell_type": "code",
      "source": [
        "lst=['g','j','k']"
      ],
      "metadata": {
        "id": "wFeAjReNyP_E"
      },
      "execution_count": null,
      "outputs": []
    },
    {
      "cell_type": "code",
      "source": [
        "lst=[1,2,3]"
      ],
      "metadata": {
        "id": "6LeNjCeEyed-"
      },
      "execution_count": null,
      "outputs": []
    },
    {
      "cell_type": "code",
      "source": [
        "l2=list(lst)"
      ],
      "metadata": {
        "id": "EoKhWz4rz5-M"
      },
      "execution_count": null,
      "outputs": []
    },
    {
      "cell_type": "code",
      "source": [
        "l2=list(lst)"
      ],
      "metadata": {
        "id": "HDvQHJIu0NCY"
      },
      "execution_count": null,
      "outputs": []
    },
    {
      "cell_type": "code",
      "source": [
        "l2"
      ],
      "metadata": {
        "colab": {
          "base_uri": "https://localhost:8080/"
        },
        "id": "_9vyfM1R04cc",
        "outputId": "9c5bafdb-b90d-4df8-c251-1699ae9b815c"
      },
      "execution_count": null,
      "outputs": [
        {
          "output_type": "execute_result",
          "data": {
            "text/plain": [
              "[1, 2, 3]"
            ]
          },
          "metadata": {},
          "execution_count": 22
        }
      ]
    },
    {
      "cell_type": "code",
      "source": [
        "lst"
      ],
      "metadata": {
        "colab": {
          "base_uri": "https://localhost:8080/"
        },
        "id": "X57SJdw508b8",
        "outputId": "6bd8a688-6d07-481d-fca3-ab57f23bafa9"
      },
      "execution_count": null,
      "outputs": [
        {
          "output_type": "execute_result",
          "data": {
            "text/plain": [
              "[1, 2, 3]"
            ]
          },
          "metadata": {},
          "execution_count": 23
        }
      ]
    },
    {
      "cell_type": "code",
      "source": [
        "marks=[1,2,3,4,5]"
      ],
      "metadata": {
        "id": "3tGs-77Z1l_E"
      },
      "execution_count": null,
      "outputs": []
    },
    {
      "cell_type": "code",
      "source": [
        "copy_marks=marks.copy()"
      ],
      "metadata": {
        "id": "OVhIIynP1r46"
      },
      "execution_count": null,
      "outputs": []
    },
    {
      "cell_type": "code",
      "source": [
        "copy_marks"
      ],
      "metadata": {
        "colab": {
          "base_uri": "https://localhost:8080/"
        },
        "id": "zdTaj-072Fui",
        "outputId": "084f5be2-89e3-4fd9-cee7-51263ecbb80d"
      },
      "execution_count": null,
      "outputs": [
        {
          "output_type": "execute_result",
          "data": {
            "text/plain": [
              "[1, 2, 3, 4, 5]"
            ]
          },
          "metadata": {},
          "execution_count": 27
        }
      ]
    },
    {
      "cell_type": "code",
      "source": [
        "list('satyam')"
      ],
      "metadata": {
        "colab": {
          "base_uri": "https://localhost:8080/"
        },
        "id": "c67dNbJr2QSC",
        "outputId": "780bfe17-7814-4caa-ceef-95a2b032f08a"
      },
      "execution_count": null,
      "outputs": [
        {
          "output_type": "execute_result",
          "data": {
            "text/plain": [
              "['s', 'a', 't', 'y', 'a', 'm']"
            ]
          },
          "metadata": {},
          "execution_count": 29
        }
      ]
    },
    {
      "cell_type": "code",
      "source": [
        "list(1233)"
      ],
      "metadata": {
        "colab": {
          "base_uri": "https://localhost:8080/",
          "height": 141
        },
        "id": "dFo0K4Gg2nyl",
        "outputId": "3211ed8c-b20d-4938-ece2-2a703d91e842"
      },
      "execution_count": null,
      "outputs": [
        {
          "output_type": "error",
          "ename": "TypeError",
          "evalue": "'int' object is not iterable",
          "traceback": [
            "\u001b[0;31m---------------------------------------------------------------------------\u001b[0m",
            "\u001b[0;31mTypeError\u001b[0m                                 Traceback (most recent call last)",
            "\u001b[0;32m<ipython-input-32-feccbebfe231>\u001b[0m in \u001b[0;36m<cell line: 1>\u001b[0;34m()\u001b[0m\n\u001b[0;32m----> 1\u001b[0;31m \u001b[0mlist\u001b[0m\u001b[0;34m(\u001b[0m\u001b[0;36m1233\u001b[0m\u001b[0;34m)\u001b[0m\u001b[0;34m\u001b[0m\u001b[0;34m\u001b[0m\u001b[0m\n\u001b[0m",
            "\u001b[0;31mTypeError\u001b[0m: 'int' object is not iterable"
          ]
        }
      ]
    },
    {
      "cell_type": "code",
      "source": [
        "l1=[]"
      ],
      "metadata": {
        "id": "BRk15evd2xca"
      },
      "execution_count": null,
      "outputs": []
    },
    {
      "cell_type": "code",
      "source": [
        "l1.append('satyam')"
      ],
      "metadata": {
        "id": "Ft3zITzCAij-"
      },
      "execution_count": null,
      "outputs": []
    },
    {
      "cell_type": "code",
      "source": [
        "l1"
      ],
      "metadata": {
        "colab": {
          "base_uri": "https://localhost:8080/"
        },
        "id": "A8O8KjVdAuvp",
        "outputId": "eb192f18-4a01-4cca-c5e0-b5295817e706"
      },
      "execution_count": null,
      "outputs": [
        {
          "output_type": "execute_result",
          "data": {
            "text/plain": [
              "['satyam']"
            ]
          },
          "metadata": {},
          "execution_count": 35
        }
      ]
    },
    {
      "cell_type": "code",
      "source": [
        "l1.append(123)"
      ],
      "metadata": {
        "id": "MdrhDciMAx_J"
      },
      "execution_count": null,
      "outputs": []
    },
    {
      "cell_type": "code",
      "source": [
        "l1"
      ],
      "metadata": {
        "colab": {
          "base_uri": "https://localhost:8080/"
        },
        "id": "n3xkQou_A8Yy",
        "outputId": "5639c3af-b555-4245-de3b-7d39afd604fc"
      },
      "execution_count": null,
      "outputs": [
        {
          "output_type": "execute_result",
          "data": {
            "text/plain": [
              "['satyam', 123]"
            ]
          },
          "metadata": {},
          "execution_count": 38
        }
      ]
    },
    {
      "cell_type": "code",
      "source": [
        "l1.append('ram')"
      ],
      "metadata": {
        "id": "aGW_4hywBERy"
      },
      "execution_count": null,
      "outputs": []
    },
    {
      "cell_type": "code",
      "source": [
        "l1.append('sam')"
      ],
      "metadata": {
        "id": "I_hz5x1iBKTb"
      },
      "execution_count": null,
      "outputs": []
    },
    {
      "cell_type": "code",
      "source": [
        "l1"
      ],
      "metadata": {
        "colab": {
          "base_uri": "https://localhost:8080/"
        },
        "id": "KciL9166BtKU",
        "outputId": "55797231-f19d-4355-8e72-19c5c80d40e0"
      },
      "execution_count": null,
      "outputs": [
        {
          "output_type": "execute_result",
          "data": {
            "text/plain": [
              "['satyam', 123, 'ram', 'sam']"
            ]
          },
          "metadata": {},
          "execution_count": 41
        }
      ]
    },
    {
      "cell_type": "code",
      "source": [
        "l1=['minakshi','Donald Trump','Imran khan']"
      ],
      "metadata": {
        "id": "6YEeyieEB348"
      },
      "execution_count": null,
      "outputs": []
    },
    {
      "cell_type": "code",
      "source": [
        "l1"
      ],
      "metadata": {
        "colab": {
          "base_uri": "https://localhost:8080/"
        },
        "id": "UoqmkZPXCCLe",
        "outputId": "582cffb3-e636-4158-ba62-97b2c3c97069"
      },
      "execution_count": null,
      "outputs": [
        {
          "output_type": "execute_result",
          "data": {
            "text/plain": [
              "['minakshi', 'Donald Trump', 'Imran khan']"
            ]
          },
          "metadata": {},
          "execution_count": 43
        }
      ]
    },
    {
      "cell_type": "code",
      "source": [
        "l1.insert(1,'satyam')"
      ],
      "metadata": {
        "id": "dqRaoN4eCISh"
      },
      "execution_count": null,
      "outputs": []
    },
    {
      "cell_type": "code",
      "source": [
        "l1"
      ],
      "metadata": {
        "colab": {
          "base_uri": "https://localhost:8080/"
        },
        "id": "tKWqhdNiCPe-",
        "outputId": "d9e2debf-f7db-41da-a1e6-4288e59b887d"
      },
      "execution_count": null,
      "outputs": [
        {
          "output_type": "execute_result",
          "data": {
            "text/plain": [
              "['minakshi', 'satyam', 'Donald Trump', 'Imran khan']"
            ]
          },
          "metadata": {},
          "execution_count": 45
        }
      ]
    },
    {
      "cell_type": "code",
      "source": [
        "len(l1)"
      ],
      "metadata": {
        "colab": {
          "base_uri": "https://localhost:8080/"
        },
        "id": "eFBoJQ5SCkwj",
        "outputId": "5e8dfd9c-fb93-4913-96b0-e5795fcca3f4"
      },
      "execution_count": null,
      "outputs": [
        {
          "output_type": "execute_result",
          "data": {
            "text/plain": [
              "4"
            ]
          },
          "metadata": {},
          "execution_count": 46
        }
      ]
    },
    {
      "cell_type": "code",
      "source": [
        "l1[1]"
      ],
      "metadata": {
        "colab": {
          "base_uri": "https://localhost:8080/",
          "height": 36
        },
        "id": "5uNap8pICxLG",
        "outputId": "de7b4490-2253-487e-91af-4fb10fcbcabf"
      },
      "execution_count": null,
      "outputs": [
        {
          "output_type": "execute_result",
          "data": {
            "text/plain": [
              "'satyam'"
            ],
            "application/vnd.google.colaboratory.intrinsic+json": {
              "type": "string"
            }
          },
          "metadata": {},
          "execution_count": 47
        }
      ]
    },
    {
      "cell_type": "code",
      "source": [
        "l1[1]='ram'"
      ],
      "metadata": {
        "id": "nQ7i1GgGC81I"
      },
      "execution_count": null,
      "outputs": []
    },
    {
      "cell_type": "code",
      "source": [
        "l1"
      ],
      "metadata": {
        "colab": {
          "base_uri": "https://localhost:8080/"
        },
        "id": "leC4CscFDGjc",
        "outputId": "80fd1480-5af8-4c66-912e-07ff28687a40"
      },
      "execution_count": null,
      "outputs": [
        {
          "output_type": "execute_result",
          "data": {
            "text/plain": [
              "['minakshi', 'ram', 'Donald Trump', 'Imran khan']"
            ]
          },
          "metadata": {},
          "execution_count": 49
        }
      ]
    },
    {
      "cell_type": "code",
      "source": [
        "l1=[11,22,33,66,44,88,99,44]"
      ],
      "metadata": {
        "id": "NTtDVW_aglNY"
      },
      "execution_count": 50,
      "outputs": []
    },
    {
      "cell_type": "code",
      "source": [
        "l1[3]=775"
      ],
      "metadata": {
        "id": "my2Soy3ogplf"
      },
      "execution_count": 51,
      "outputs": []
    },
    {
      "cell_type": "code",
      "source": [
        "l1"
      ],
      "metadata": {
        "colab": {
          "base_uri": "https://localhost:8080/"
        },
        "id": "BzYOigh-gwXq",
        "outputId": "5eaff5ee-4715-4e70-92f0-7e1d978e46ac"
      },
      "execution_count": 52,
      "outputs": [
        {
          "output_type": "execute_result",
          "data": {
            "text/plain": [
              "[11, 22, 33, 775, 44, 88, 99, 44]"
            ]
          },
          "metadata": {},
          "execution_count": 52
        }
      ]
    },
    {
      "cell_type": "code",
      "source": [
        "l1[1:]"
      ],
      "metadata": {
        "colab": {
          "base_uri": "https://localhost:8080/"
        },
        "id": "u2SLQ2aEg1Bg",
        "outputId": "9ac22f04-3145-4265-d264-0c7ac3f59b5b"
      },
      "execution_count": 53,
      "outputs": [
        {
          "output_type": "execute_result",
          "data": {
            "text/plain": [
              "[22, 33, 775, 44, 88, 99, 44]"
            ]
          },
          "metadata": {},
          "execution_count": 53
        }
      ]
    },
    {
      "cell_type": "code",
      "source": [
        "l1[:3]"
      ],
      "metadata": {
        "colab": {
          "base_uri": "https://localhost:8080/"
        },
        "id": "3aBYevU1g8zL",
        "outputId": "55a22d24-f230-4d10-b7ec-ebe332d33917"
      },
      "execution_count": 54,
      "outputs": [
        {
          "output_type": "execute_result",
          "data": {
            "text/plain": [
              "[11, 22, 33]"
            ]
          },
          "metadata": {},
          "execution_count": 54
        }
      ]
    },
    {
      "cell_type": "code",
      "source": [
        "l1=l1+[5566]"
      ],
      "metadata": {
        "id": "Yau_KMlqhEqg"
      },
      "execution_count": 55,
      "outputs": []
    },
    {
      "cell_type": "code",
      "source": [
        "l1"
      ],
      "metadata": {
        "colab": {
          "base_uri": "https://localhost:8080/"
        },
        "id": "wBHZ5UjAhlrO",
        "outputId": "c4c49f31-dc99-4694-e630-6901b5e76635"
      },
      "execution_count": 56,
      "outputs": [
        {
          "output_type": "execute_result",
          "data": {
            "text/plain": [
              "[11, 22, 33, 775, 44, 88, 99, 44, 5566]"
            ]
          },
          "metadata": {},
          "execution_count": 56
        }
      ]
    },
    {
      "cell_type": "code",
      "source": [
        "l1*4"
      ],
      "metadata": {
        "colab": {
          "base_uri": "https://localhost:8080/"
        },
        "id": "En2Q_GwLhrUE",
        "outputId": "d8094e12-e195-48d9-b02d-0a264eb477ab"
      },
      "execution_count": 57,
      "outputs": [
        {
          "output_type": "execute_result",
          "data": {
            "text/plain": [
              "[11,\n",
              " 22,\n",
              " 33,\n",
              " 775,\n",
              " 44,\n",
              " 88,\n",
              " 99,\n",
              " 44,\n",
              " 5566,\n",
              " 11,\n",
              " 22,\n",
              " 33,\n",
              " 775,\n",
              " 44,\n",
              " 88,\n",
              " 99,\n",
              " 44,\n",
              " 5566,\n",
              " 11,\n",
              " 22,\n",
              " 33,\n",
              " 775,\n",
              " 44,\n",
              " 88,\n",
              " 99,\n",
              " 44,\n",
              " 5566,\n",
              " 11,\n",
              " 22,\n",
              " 33,\n",
              " 775,\n",
              " 44,\n",
              " 88,\n",
              " 99,\n",
              " 44,\n",
              " 5566]"
            ]
          },
          "metadata": {},
          "execution_count": 57
        }
      ]
    },
    {
      "cell_type": "code",
      "source": [
        "marks=[51,56,89,78,89,45,56,12,12,32,45,32,65,45,89,78,45,56,23,12,4,5,23,23,56,]"
      ],
      "metadata": {
        "id": "h3mGaIKtm0Qb"
      },
      "execution_count": 58,
      "outputs": []
    },
    {
      "cell_type": "code",
      "source": [
        "marks.count(56)"
      ],
      "metadata": {
        "colab": {
          "base_uri": "https://localhost:8080/"
        },
        "id": "nta6SY4vm4Sl",
        "outputId": "60250e80-77e0-4689-fa44-86abbf41ff6f"
      },
      "execution_count": 61,
      "outputs": [
        {
          "output_type": "execute_result",
          "data": {
            "text/plain": [
              "4"
            ]
          },
          "metadata": {},
          "execution_count": 61
        }
      ]
    },
    {
      "cell_type": "code",
      "source": [
        "lst1=['Raj','Saurav','Garima','Riya','Gaurav','Ratnesh','Shailesh']"
      ],
      "metadata": {
        "id": "yV303FhDoO46"
      },
      "execution_count": 62,
      "outputs": []
    },
    {
      "cell_type": "code",
      "source": [
        "lst1"
      ],
      "metadata": {
        "colab": {
          "base_uri": "https://localhost:8080/"
        },
        "id": "VAcufMY7oSHn",
        "outputId": "abc1f28c-72bf-460f-c7f5-5e87e3a9e889"
      },
      "execution_count": 63,
      "outputs": [
        {
          "output_type": "execute_result",
          "data": {
            "text/plain": [
              "['Raj', 'Saurav', 'Garima', 'Riya', 'Gaurav', 'Ratnesh', 'Shailesh']"
            ]
          },
          "metadata": {},
          "execution_count": 63
        }
      ]
    },
    {
      "cell_type": "code",
      "source": [
        "pop_Raj=lst1.pop()"
      ],
      "metadata": {
        "id": "oXxnhHZEoYYC"
      },
      "execution_count": 64,
      "outputs": []
    },
    {
      "cell_type": "code",
      "source": [
        "lst1"
      ],
      "metadata": {
        "colab": {
          "base_uri": "https://localhost:8080/"
        },
        "id": "vCclNEcrokfr",
        "outputId": "d3744ee9-f82d-4169-ff7c-aa9724726fe7"
      },
      "execution_count": 65,
      "outputs": [
        {
          "output_type": "execute_result",
          "data": {
            "text/plain": [
              "['Raj', 'Saurav', 'Garima', 'Riya', 'Gaurav', 'Ratnesh']"
            ]
          },
          "metadata": {},
          "execution_count": 65
        }
      ]
    },
    {
      "cell_type": "code",
      "source": [
        "pop_Raj"
      ],
      "metadata": {
        "colab": {
          "base_uri": "https://localhost:8080/",
          "height": 36
        },
        "id": "gt4D9Wbro2Af",
        "outputId": "53abfef3-b7e6-46b1-b178-8f3a39850192"
      },
      "execution_count": 66,
      "outputs": [
        {
          "output_type": "execute_result",
          "data": {
            "text/plain": [
              "'Shailesh'"
            ],
            "application/vnd.google.colaboratory.intrinsic+json": {
              "type": "string"
            }
          },
          "metadata": {},
          "execution_count": 66
        }
      ]
    },
    {
      "cell_type": "code",
      "source": [
        "pop_Riya=lst1.pop()"
      ],
      "metadata": {
        "id": "4PqfcSfHqFP7"
      },
      "execution_count": 68,
      "outputs": []
    },
    {
      "cell_type": "code",
      "source": [
        "pop_Riya"
      ],
      "metadata": {
        "colab": {
          "base_uri": "https://localhost:8080/",
          "height": 36
        },
        "id": "88sj0wdjqV_3",
        "outputId": "eef340e8-2b36-4ce8-8103-837f028609ea"
      },
      "execution_count": 69,
      "outputs": [
        {
          "output_type": "execute_result",
          "data": {
            "text/plain": [
              "'Ratnesh'"
            ],
            "application/vnd.google.colaboratory.intrinsic+json": {
              "type": "string"
            }
          },
          "metadata": {},
          "execution_count": 69
        }
      ]
    }
  ]
}